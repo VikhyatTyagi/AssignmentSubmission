{
 "cells": [
  {
   "cell_type": "code",
   "execution_count": 1,
   "metadata": {},
   "outputs": [],
   "source": [
    "import numpy as np"
   ]
  },
  {
   "cell_type": "raw",
   "metadata": {},
   "source": [
    "Questions 1: \n",
    "Create a numpy array starting from 2 till 50 with a stepsize of 3. "
   ]
  },
  {
   "cell_type": "code",
   "execution_count": 2,
   "metadata": {},
   "outputs": [
    {
     "data": {
      "text/plain": [
       "array([ 2,  5,  8, 11, 14, 17, 20, 23, 26, 29, 32, 35, 38, 41, 44, 47, 50])"
      ]
     },
     "execution_count": 2,
     "metadata": {},
     "output_type": "execute_result"
    }
   ],
   "source": [
    "mylist=[i for i in range(2,51)]\n",
    "array=np.array(mylist[::3])\n",
    "array"
   ]
  },
  {
   "cell_type": "raw",
   "metadata": {},
   "source": [
    "Questions 2:\n",
    "Accept two lists of 5 elements each from the user.  Convert them to numpy arrays. Concatenate these arrays and print it. Also sort these arrays and print it. "
   ]
  },
  {
   "cell_type": "code",
   "execution_count": 3,
   "metadata": {},
   "outputs": [
    {
     "name": "stdout",
     "output_type": "stream",
     "text": [
      "Enter the elements for array 1\n",
      "6\n",
      "5\n",
      "7\n",
      "3\n",
      "4\n",
      "Enter the elements for array 2\n",
      "5\n",
      "3\n",
      "8\n",
      "9\n",
      "15\n",
      "[ 6  5  7  3  4  5  3  8  9 15]\n",
      "[ 3  3  4  5  5  6  7  8  9 15]\n"
     ]
    }
   ],
   "source": [
    "list1=[]\n",
    "list2=[]\n",
    "print('Enter the elements for array 1')\n",
    "for i in range(5):\n",
    "    list1inp=int(input())\n",
    "    list1.append(list1inp)\n",
    "\n",
    "print('Enter the elements for array 2')   \n",
    "for i in range(5):\n",
    "    list2inp=int(input())\n",
    "    list2.append(list2inp)\n",
    "\n",
    "arr1=np.array(list1)\n",
    "arr2=np.array(list2)\n",
    "conc_arr=np.concatenate([arr1,arr2])\n",
    "print(conc_arr)\n",
    "sort_arr=np.sort(conc_arr)\n",
    "print(sort_arr)"
   ]
  },
  {
   "cell_type": "raw",
   "metadata": {},
   "source": [
    "Questions 3:  \n",
    "Write a code snippet to find the dimensions of a ndarray and its size. "
   ]
  },
  {
   "cell_type": "code",
   "execution_count": 4,
   "metadata": {},
   "outputs": [
    {
     "name": "stdout",
     "output_type": "stream",
     "text": [
      "0\n",
      "1\n"
     ]
    }
   ],
   "source": [
    "arr=np.array('''Enter the list''')\n",
    "# to find dimensions\n",
    "print(arr.ndim)\n",
    "# to find the size\n",
    "print(arr.size)"
   ]
  },
  {
   "cell_type": "raw",
   "metadata": {},
   "source": [
    "Questions 4: \n",
    "How to convert a 1D array into a 2D array? Demonstrate with the help of a code snippet "
   ]
  },
  {
   "cell_type": "code",
   "execution_count": 5,
   "metadata": {},
   "outputs": [
    {
     "name": "stdout",
     "output_type": "stream",
     "text": [
      "[[1 2 3]\n",
      " [4 5 6]\n",
      " [7 8 9]]\n"
     ]
    }
   ],
   "source": [
    "# enter the list from which you want to create the array\n",
    "arrlist=[1,2,3,4,5,6,7,8,9]\n",
    "# creating 1D Array\n",
    "oneDArray=np.array(arrlist)\n",
    "# converting 1D Array to 2D Array\n",
    "twoDArray=oneDArray.reshape(3,3)\n",
    "print(twoDArray)"
   ]
  },
  {
   "cell_type": "raw",
   "metadata": {},
   "source": [
    "Questions 5:\n",
    "Consider two square numpy arrays. Stack them vertically and horizontally. Hint: Use vstack(), hstack()"
   ]
  },
  {
   "cell_type": "code",
   "execution_count": 6,
   "metadata": {},
   "outputs": [
    {
     "name": "stdout",
     "output_type": "stream",
     "text": [
      "[[ 1  2  3]\n",
      " [ 7  8  9]\n",
      " [10 11 12]\n",
      " [13 14 15]\n",
      " [16 17 18]\n",
      " [19 20 21]]\n",
      "[[ 1  2  3 13 14 15]\n",
      " [ 7  8  9 16 17 18]\n",
      " [10 11 12 19 20 21]]\n"
     ]
    }
   ],
   "source": [
    "array1=np.array([[1,2,3],[7,8,9],[10,11,12]])\n",
    "array2=np.array([[13,14,15],[16,17,18],[19,20,21]])\n",
    "print(np.vstack((array1,array2)))\n",
    "print(np.hstack((array1,array2)))"
   ]
  },
  {
   "cell_type": "code",
   "execution_count": 13,
   "metadata": {},
   "outputs": [
    {
     "name": "stdout",
     "output_type": "stream",
     "text": [
      "1 3\n",
      "2 1\n",
      "3 1\n",
      "4 1\n",
      "5 2\n",
      "6 3\n",
      "7 4\n",
      "8 2\n",
      "9 1\n"
     ]
    }
   ],
   "source": [
    "array3=np.array([1,1,1,2,3,4,5,6,5,6,7,8,7,7,7,9,8,6])\n",
    "unique,counts=np.unique(array3,return_counts=True)\n",
    "for i,j in zip(unique,counts):\n",
    "    print(f'{i} {j}')"
   ]
  }
 ],
 "metadata": {
  "kernelspec": {
   "display_name": "Python 3",
   "language": "python",
   "name": "python3"
  },
  "language_info": {
   "codemirror_mode": {
    "name": "ipython",
    "version": 3
   },
   "file_extension": ".py",
   "mimetype": "text/x-python",
   "name": "python",
   "nbconvert_exporter": "python",
   "pygments_lexer": "ipython3",
   "version": "3.8.3"
  }
 },
 "nbformat": 4,
 "nbformat_minor": 4
}
