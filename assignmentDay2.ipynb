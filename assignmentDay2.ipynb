{
 "cells": [
  {
   "cell_type": "raw",
   "metadata": {},
   "source": [
    "Questions 1: \n",
    "Create an empty list. Accept 10 numbers from the user and append to it the list if it is an even number. \n",
    "Questions "
   ]
  },
  {
   "cell_type": "code",
   "execution_count": 1,
   "metadata": {},
   "outputs": [
    {
     "name": "stdout",
     "output_type": "stream",
     "text": [
      "enter 10 numbers\n",
      "1\n",
      "2\n",
      "3\n",
      "4\n",
      "5\n",
      "6\n",
      "7\n",
      "8\n",
      "9\n",
      "10\n",
      "[2, 4, 6, 8, 10]\n"
     ]
    }
   ],
   "source": [
    "mylist=[]\n",
    "print('enter 10 numbers')\n",
    "for i in range(10):\n",
    "    num=int(input())\n",
    "    if num%2==0:\n",
    "        mylist.append(num)\n",
    "    else:\n",
    "        continue\n",
    "\n",
    "print(mylist)\n",
    "        "
   ]
  },
  {
   "cell_type": "raw",
   "metadata": {},
   "source": [
    "Questions 2: \n",
    "Create a notebook on LIST COMPREHENSION. This exercise is to put you in a Self learning mode"
   ]
  },
  {
   "cell_type": "code",
   "execution_count": 2,
   "metadata": {},
   "outputs": [
    {
     "name": "stdout",
     "output_type": "stream",
     "text": [
      "[1, 2, 3, 4, 5, 6, 7, 8, 9]\n",
      "[0, 2, 4, 6, 8]\n"
     ]
    }
   ],
   "source": [
    "mylist1=[var for var in range(1,10)]\n",
    "print(mylist1)\n",
    "mylist2=[i for i in range(10) if i%2==0]\n",
    "print(mylist2)"
   ]
  },
  {
   "cell_type": "raw",
   "metadata": {},
   "source": [
    "Questions 3: \n",
    "You have seen in the videos how powerful dictionary data structure is. In this assignment, given a number n, you have to write a program that generates a dictionary d which contains (i, i*i), where i is from 1 to n (both included). Then you have to just print this dictionary d. "
   ]
  },
  {
   "cell_type": "code",
   "execution_count": 3,
   "metadata": {},
   "outputs": [
    {
     "name": "stdout",
     "output_type": "stream",
     "text": [
      "4\n",
      "{1: 1, 2: 4, 3: 9, 4: 16}\n"
     ]
    }
   ],
   "source": [
    "mydict=dict()\n",
    "n=int(input())\n",
    "for i in range(1,n+1):\n",
    "    mydict[i]=i*i\n",
    "    \n",
    "print(mydict)"
   ]
  },
  {
   "cell_type": "raw",
   "metadata": {},
   "source": [
    "Questions 4:\n",
    "There is a robot which wants to go the charging point to charge itself. The robot moves in a 2-D plane from the original point (0,0). The robot can move toward UP, DOWN, LEFT and RIGHT with given steps. The trace of robot movement is shown as the following: \n",
    "UP 5\n",
    "DOWN 3\n",
    "LEFT 3\n",
    "RIGHT 2\n",
    "Then, the output of the program should be:\n",
    "2\n",
    "The numbers after the direction are steps. Write a program to compute the distance between the current position after a sequence of movement and original point. If the distance is a float, then just print the nearest integer (use round() function for that and then convert it into an integer). \n",
    "\n",
    "Input Format:\n",
    "The first line of the input contains a number n which implies the number of directions to be given.\n",
    "The next n lines contain the direction and the step separated by a space. \n",
    "\n",
    "Output Format:\n",
    "Print the distance from the original position to the current position. "
   ]
  },
  {
   "cell_type": "code",
   "execution_count": 4,
   "metadata": {},
   "outputs": [
    {
     "name": "stdout",
     "output_type": "stream",
     "text": [
      "4\n",
      "UP 5\n",
      "DOWN 3\n",
      "LEFT 3\n",
      "RIGHT 2\n",
      "2\n"
     ]
    }
   ],
   "source": [
    "no_of_direction=int(input())\n",
    "up=[]\n",
    "down=[]\n",
    "left=[]\n",
    "right=[]\n",
    "for i in range(no_of_direction):\n",
    "    a=input().upper()\n",
    "    if 'UP' in a:\n",
    "        B=a.split(' ')\n",
    "        B[1]=int(B[1])\n",
    "        up.append(B[1])\n",
    "    elif 'DOWN' in a:\n",
    "        B=a.split(' ')\n",
    "        B[1]=int(B[1])\n",
    "        down.append(B[1])\n",
    "    elif 'LEFT'in a:\n",
    "        B=a.split(' ')\n",
    "        B[1]=int(B[1])\n",
    "        left.append(B[1])\n",
    "    elif 'RIGHT' in a:\n",
    "        B=a.split(' ')\n",
    "        B[1]=int(B[1])\n",
    "        right.append(B[1])\n",
    "    continue\n",
    "    \n",
    "totalup=sum(up)\n",
    "totaldown=sum(down)\n",
    "totalleft=sum(left)\n",
    "totalright=sum(right)\n",
    "\n",
    "y=abs(totalup-totaldown)\n",
    "x=abs(totalleft-totalright)\n",
    "\n",
    "totaldistance=round((x**2+y**2)**(1/2))\n",
    "print(totaldistance)\n"
   ]
  },
  {
   "cell_type": "code",
   "execution_count": null,
   "metadata": {},
   "outputs": [],
   "source": []
  }
 ],
 "metadata": {
  "kernelspec": {
   "display_name": "Python 3",
   "language": "python",
   "name": "python3"
  },
  "language_info": {
   "codemirror_mode": {
    "name": "ipython",
    "version": 3
   },
   "file_extension": ".py",
   "mimetype": "text/x-python",
   "name": "python",
   "nbconvert_exporter": "python",
   "pygments_lexer": "ipython3",
   "version": "3.8.3"
  }
 },
 "nbformat": 4,
 "nbformat_minor": 4
}
